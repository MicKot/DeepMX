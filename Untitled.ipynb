{
 "cells": [
  {
   "cell_type": "code",
   "execution_count": 431,
   "metadata": {
    "scrolled": false
   },
   "outputs": [],
   "source": [
    "import mxnet as mx\n",
    "# import mxnet.gluon.model_zoo.vision.densenet as dsnet\n",
    "import models.utils as utils\n",
    "import numpy as np\n",
    "from inspect import getfile, getsource\n",
    "import matplotlib.pyplot as plt\n",
    "import random\n",
    "import time\n",
    "import cv2"
   ]
  },
  {
   "cell_type": "code",
   "execution_count": 432,
   "metadata": {},
   "outputs": [],
   "source": [
    "def label_process(label):\n",
    "    d1 = mx.nd.zeros(10)\n",
    "    d2 = mx.nd.zeros(11)\n",
    "    d1[int(label[0])] = 1\n",
    "    d2[int(label[1])] = 1\n",
    "    return d1, d2"
   ]
  },
  {
   "cell_type": "code",
   "execution_count": 433,
   "metadata": {},
   "outputs": [],
   "source": [
    "def no_process(label):\n",
    "    return label[0], label[1]"
   ]
  },
  {
   "cell_type": "code",
   "execution_count": 434,
   "metadata": {},
   "outputs": [],
   "source": [
    "def image_norm(image):\n",
    "    return image / 255."
   ]
  },
  {
   "cell_type": "code",
   "execution_count": 490,
   "metadata": {},
   "outputs": [],
   "source": [
    "class ImageIter(mx.io.DataIter):\n",
    "    def __init__(self, path=None, rec_file=False, batch_size=32, shuffle=True, number_of_labels=1, label_preprocess_func=None, image_preprocess_func=None, output_size=(3, 224, 224)):\n",
    "        super(ImageIter, self).__init__()\n",
    "        self.current_batch = 0\n",
    "        self.current_index = 0\n",
    "        self.number_of_labels = number_of_labels\n",
    "        self.batch_size = batch_size\n",
    "        self.path = path\n",
    "        self.rec_file = rec_file\n",
    "        self.shuffle = shuffle\n",
    "        self.label_preprocess_func = label_preprocess_func\n",
    "        self.image_preprocess_func = image_preprocess_func\n",
    "        self.output_size = output_size\n",
    "        self._provide_data = list(zip(['data'], [(self.batch_size, *self.output_size)]))\n",
    "        self._provide_label = list(zip(['output_' + str(x) for x in range(self.number_of_labels)], [(self.batch_size,) for x in range(self.number_of_labels)]))\n",
    "        if self.rec_file:\n",
    "            self.record_file = mx.recordio.MXIndexedRecordIO(self.path + '.idx', self.path + '.rec', 'r')\n",
    "            self.number_of_batches = len(self.record_file.keys) // self.batch_size\n",
    "            self.image_indices = list(self.record_file.keys)\n",
    "            if self.shuffle:\n",
    "                random.shuffle(self.image_indices)\n",
    "        else:\n",
    "            raise 'Not implemented'\n",
    "            \n",
    "    def __iter__(self):\n",
    "        return self\n",
    "    \n",
    "    def __len__(self):\n",
    "        return self.number_of_batches\n",
    "    \n",
    "    def reset(self):\n",
    "        self.current_index = 0\n",
    "        self.current_batch = 0\n",
    "        if self.shuffle:\n",
    "            random.shuffle(self.image_indices)\n",
    "    \n",
    "    def next_sample(self):\n",
    "        sample = self.record_file.read_idx(self.image_indices[self.current_index])\n",
    "        header, img = mx.recordio.unpack(sample)\n",
    "        img = mx.image.imdecode(img)\n",
    "        label = header.label\n",
    "        self.current_index += 1\n",
    "        return img, label\n",
    "        \n",
    "    def next(self):\n",
    "        if self.current_batch < self.number_of_batches:\n",
    "            self.current_batch += 1\n",
    "            batch_data = mx.nd.zeros((self.batch_size, *self.output_size))\n",
    "            labels = [mx.nd.zeros((self.batch_size)) for _ in range(self.number_of_labels)]\n",
    "            for i in range(self.batch_size):\n",
    "                data, label = self.next_sample()\n",
    "                if self.label_preprocess_func is not None:\n",
    "                    label = self.label_preprocess_func(label) \n",
    "                if self.image_preprocess_func is not None:\n",
    "                    data = self.image_preprocess_func(data)  \n",
    "                batch_data[i] = mx.nd.transpose(data, axes=(2, 0, 1))\n",
    "                for x in range(self.number_of_labels):\n",
    "                    labels[x][i] = label[x]\n",
    "            return mx.io.DataBatch([batch_data], labels)\n",
    "        else:\n",
    "            raise StopIteration\n",
    "            \n",
    "    @property\n",
    "    def provide_data(self):\n",
    "        return self._provide_data\n",
    "    \n",
    "    @property\n",
    "    def provide_label(self):\n",
    "        return self._provide_label"
   ]
  },
  {
   "cell_type": "code",
   "execution_count": 536,
   "metadata": {},
   "outputs": [],
   "source": [
    "itea = ImageIter(path='../mxnet_digits/test_run_train', batch_size=378, rec_file=True, output_size=(3, 150, 100), label_preprocess_func=no_process, number_of_labels=2, image_preprocess_func=None)\n",
    "valid_data_iter = ImageIter(path='../mxnet_digits/test_run_valid', batch_size=378, rec_file=True, output_size=(3, 150, 100), label_preprocess_func=no_process, number_of_labels=2,image_preprocess_func=None)"
   ]
  },
  {
   "cell_type": "code",
   "execution_count": 539,
   "metadata": {
    "scrolled": true
   },
   "outputs": [],
   "source": [
    "data = mx.sym.var('data')\n",
    "output_1 = mx.sym.var('output_0')\n",
    "output_2 = mx.sym.var('output_1')\n",
    "net0  = mx.sym.Convolution(data=data, kernel=(3,3), stride=(1,1), num_filter=16, pad=(1,1))\n",
    "net = mx.sym.Activation(data=net0, act_type=\"relu\")\n",
    "net  = mx.sym.BatchNorm(data=net)\n",
    "# net = mx.sym.add_n(net, net0)\n",
    "net = mx.sym.Pooling(data=net, pool_type=\"max\", kernel=(2,2), stride=(2,2))\n",
    "net1  = mx.sym.Convolution(data=net, kernel=(1,1), stride=(1,1), num_filter=32)\n",
    "net  = mx.sym.Convolution(data=net1, kernel=(3,3), stride=(1,1), num_filter=32, pad=(1,1))\n",
    "net = mx.sym.Activation(data=net, act_type=\"relu\")\n",
    "net  = mx.sym.BatchNorm(data=net)\n",
    "net = mx.sym.add_n(net, net1)\n",
    "net = mx.sym.Pooling(data=net, pool_type=\"max\", kernel=(2,2), stride=(2,2))\n",
    "net2  = mx.sym.Convolution(data=net, kernel=(1,1), stride=(1,1), num_filter=64)\n",
    "net  = mx.sym.Convolution(data=net2, kernel=(3,3), stride=(1,1), num_filter=64, pad=(1,1))\n",
    "net = mx.sym.Activation(data=net, act_type=\"relu\")\n",
    "net  = mx.sym.BatchNorm(data=net)\n",
    "net = mx.sym.add_n(net, net2)\n",
    "net = mx.sym.Pooling(data=net, pool_type=\"max\", kernel=(2,2), stride=(2,2))\n",
    "net3  = mx.sym.Convolution(data=net, kernel=(1,1), stride=(1,1), num_filter=128)\n",
    "net  = mx.sym.Convolution(data=net3, kernel=(3,3), stride=(1,1), num_filter=128, pad=(1,1))\n",
    "net = mx.sym.Activation(data=net, act_type=\"relu\")\n",
    "net  = mx.sym.BatchNorm(data=net)\n",
    "net = mx.sym.add_n(net, net3)\n",
    "net = mx.sym.Pooling(data=net, pool_type=\"max\", kernel=(18,12), stride=(18,12))\n",
    "net = mx.sym.Flatten(data=net)\n",
    "fc4  = mx.sym.FullyConnected(data=net, num_hidden=10)\n",
    "out1  = mx.sym.SoftmaxOutput(data=fc4, name='output_0', label=output_1)\n",
    "fc5  = mx.sym.FullyConnected(data=net, num_hidden=11)\n",
    "out2  = mx.sym.SoftmaxOutput(data=fc5, name='output_1', label=output_2)\n",
    "group = mx.sym.Group([out1, out2])\n",
    "\n",
    "# print(group.list_outputs())\n",
    "# print(train_data_iter.getlabel())\n",
    "model = mx.mod.Module(group, context = mx.gpu(), label_names=('output_0', 'output_1',))\n",
    "# print(mx.viz.print_summary(out1))\n",
    "model.bind(data_shapes=itea.provide_data, label_shapes=itea.provide_label)\n",
    "model.init_params()\n",
    "model.init_optimizer(optimizer = 'adam', optimizer_params={'learning_rate': 0.01})\n",
    "# model.fit(itea, num_epoch=10)"
   ]
  },
  {
   "cell_type": "code",
   "execution_count": null,
   "metadata": {},
   "outputs": [
    {
     "name": "stdout",
     "output_type": "stream",
     "text": [
      "Batch: 640, d1_acc: 0.9198817159035568"
     ]
    }
   ],
   "source": [
    "metric1 = mx.metric.Accuracy()\n",
    "metric2 = mx.metric.Accuracy()\n",
    "\n",
    "for epoch in range(50):\n",
    "    itea.reset()\n",
    "    metric1.reset()\n",
    "    start = time.time()\n",
    "    for x, batch in enumerate(itea):\n",
    "        model.forward(batch, is_train=True)\n",
    "        model.backward()\n",
    "        model.update()\n",
    "        model.update_metric(metric1, batch.label)\n",
    "        print(f'\\rBatch: {x}, d1_acc: {metric1.get()[1]}', end='', flush=True)\n",
    "\n",
    "    valid_data_iter.reset()\n",
    "    metric1.reset()\n",
    "    for batch in valid_data_iter:\n",
    "        model.forward(batch, is_train=False)\n",
    "        model.update_metric(metric1, batch.label)\n",
    "    print(f'\\nEpoch: {epoch}, d1_acc_val: {metric1.get()[1]}')\n",
    "    print(f'For epoch = {time.time()-start}')"
   ]
  },
  {
   "cell_type": "code",
   "execution_count": 527,
   "metadata": {},
   "outputs": [
    {
     "data": {
      "text/plain": [
       "\n",
       "[0.09757955 0.19292915 0.10579246 0.12763168 0.07361028 0.06321743\n",
       " 0.05807283 0.11162391 0.03834921 0.06055572 0.07063778]\n",
       "<NDArray 11 @gpu(0)>"
      ]
     },
     "execution_count": 527,
     "metadata": {},
     "output_type": "execute_result"
    }
   ],
   "source": []
  },
  {
   "cell_type": "code",
   "execution_count": 541,
   "metadata": {},
   "outputs": [],
   "source": [
    "valid_data_iter.reset()\n",
    "batch = next(valid_data_iter)"
   ]
  },
  {
   "cell_type": "code",
   "execution_count": 542,
   "metadata": {},
   "outputs": [],
   "source": [
    "predictions = model.predict(batch.data[0], merge_batches=True, always_output_list=True)"
   ]
  },
  {
   "cell_type": "code",
   "execution_count": 543,
   "metadata": {},
   "outputs": [
    {
     "data": {
      "text/plain": [
       "\n",
       "[[9.9999797e-01 1.9175561e-09 1.1480467e-10 ... 1.9262387e-22\n",
       "  1.6699029e-23 2.0212149e-06]\n",
       " [9.9989700e-01 7.2287963e-05 1.6323108e-06 ... 8.2499685e-32\n",
       "  3.4049757e-32 2.9085979e-05]\n",
       " [5.4553659e-03 6.1138551e-04 8.3747869e-07 ... 5.9385441e-11\n",
       "  1.0211177e-10 9.9393243e-01]\n",
       " ...\n",
       " [3.0366130e-02 2.4355612e-04 7.7390450e-06 ... 1.4455152e-17\n",
       "  5.2656554e-17 9.6938252e-01]\n",
       " [1.8383108e-02 1.1640706e-03 1.3342961e-04 ... 3.6550102e-10\n",
       "  2.8776626e-10 9.8031932e-01]\n",
       " [6.4079970e-01 8.2891714e-03 1.2835667e-04 ... 3.5743925e-12\n",
       "  2.8366361e-12 3.5078266e-01]]\n",
       "<NDArray 378x10 @gpu(0)>"
      ]
     },
     "execution_count": 543,
     "metadata": {},
     "output_type": "execute_result"
    }
   ],
   "source": [
    "predictions"
   ]
  },
  {
   "cell_type": "code",
   "execution_count": 544,
   "metadata": {},
   "outputs": [
    {
     "name": "stdout",
     "output_type": "stream",
     "text": [
      "\n",
      "[3.0829613e-03 7.1110145e-07 4.2743404e-09 3.0609494e-17 9.3241941e-18\n",
      " 6.9726908e-18 2.6188889e-09 2.4833958e-16 6.3402395e-17 9.9691629e-01]\n",
      "<NDArray 10 @gpu(0)> 9 4\n",
      "\n",
      "[3.7609853e-09 1.9076988e-07 5.0785195e-07 2.4208546e-07 9.9427682e-01\n",
      " 3.3465643e-05 5.6579672e-03 3.4981849e-08 7.9686151e-07 2.9986795e-05\n",
      " 5.7733183e-09]\n",
      "<NDArray 11 @gpu(0)>\n"
     ]
    },
    {
     "data": {
      "image/png": "[encoded data removed]",
      "text/plain": [
       "<Figure size 432x288 with 1 Axes>"
      ]
     },
     "metadata": {
      "needs_background": "light"
     },
     "output_type": "display_data"
    }
   ],
   "source": [
    "print(predictions[3], batch.label[0][3].asnumpy().astype(int)[0], batch.label[1][3].asnumpy().astype(int)[0])\n",
    "plt.imshow(np.rollaxis(batch.data[0].asnumpy().astype(int), 1, 4)[3])\n",
    "print(model.get_outputs()[1][3])"
   ]
  },
  {
   "cell_type": "code",
   "execution_count": null,
   "metadata": {},
   "outputs": [],
   "source": []
  },
  {
   "cell_type": "code",
   "execution_count": 261,
   "metadata": {},
   "outputs": [
    {
     "data": {
      "text/plain": [
       "(256, 3, 150, 100)"
      ]
     },
     "execution_count": 261,
     "metadata": {},
     "output_type": "execute_result"
    }
   ],
   "source": [
    "batch.data[0].asnumpy().shape"
   ]
  },
  {
   "cell_type": "code",
   "execution_count": 262,
   "metadata": {},
   "outputs": [
    {
     "data": {
      "text/plain": [
       "(256, 150, 100, 3)"
      ]
     },
     "execution_count": 262,
     "metadata": {},
     "output_type": "execute_result"
    }
   ],
   "source": [
    "np.rollaxis(batch.data[0].asnumpy(), 1, 4).shape"
   ]
  },
  {
   "cell_type": "code",
   "execution_count": 290,
   "metadata": {},
   "outputs": [
    {
     "data": {
      "text/plain": [
       "<matplotlib.image.AxesImage at 0x7fd7a4ee5c88>"
      ]
     },
     "execution_count": 290,
     "metadata": {},
     "output_type": "execute_result"
    },
    {
     "data": {
      "image/png": "[encoded data removed]",
      "text/plain": [
       "<Figure size 432x288 with 1 Axes>"
      ]
     },
     "metadata": {
      "needs_background": "light"
     },
     "output_type": "display_data"
    }
   ],
   "source": []
  },
  {
   "cell_type": "code",
   "execution_count": 273,
   "metadata": {},
   "outputs": [
    {
     "name": "stdout",
     "output_type": "stream",
     "text": [
      "\n",
      "[[2.06142783e-01 1.72818869e-01 1.67021994e-03 ... 3.23599529e-08\n",
      "  6.19298100e-01 1.38653263e-06]\n",
      " [1.47781875e-02 8.10969993e-03 3.68540804e-03 ... 3.80690098e-11\n",
      "  9.73426282e-01 3.06208214e-08]\n",
      " [6.40088975e-01 3.80482078e-02 4.34868969e-03 ... 1.18851567e-10\n",
      "  3.17494363e-01 7.50416440e-09]\n",
      " ...\n",
      " [1.61285907e-01 4.92342040e-02 1.12652975e-04 ... 1.66106073e-09\n",
      "  7.89259195e-01 8.48483580e-07]\n",
      " [3.62633377e-01 5.49655735e-01 2.20602215e-03 ... 3.29044042e-10\n",
      "  8.54990184e-02 1.34267006e-08]\n",
      " [8.37492943e-01 1.13681378e-03 1.34476417e-04 ... 3.52788443e-09\n",
      "  1.61228776e-01 1.58823337e-08]]\n",
      "<NDArray 256x11 @gpu(0)>\n"
     ]
    }
   ],
   "source": [
    "print(predictions)"
   ]
  }
 ],
 "metadata": {
  "kernelspec": {
   "display_name": "Python 3",
   "language": "python",
   "name": "python3"
  },
  "language_info": {
   "codemirror_mode": {
    "name": "ipython",
    "version": 3
   },
   "file_extension": ".py",
   "mimetype": "text/x-python",
   "name": "python",
   "nbconvert_exporter": "python",
   "pygments_lexer": "ipython3",
   "version": "3.6.8"
  }
 },
 "nbformat": 4,
 "nbformat_minor": 2
}
