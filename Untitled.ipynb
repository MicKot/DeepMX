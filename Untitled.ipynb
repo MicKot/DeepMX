{
 "cells": [
  {
   "cell_type": "code",
   "execution_count": 1,
   "metadata": {
    "scrolled": false
   },
   "outputs": [],
   "source": [
    "import mxnet as mx\n",
    "# import mxnet.gluon.model_zoo.vision.densenet as dsnet\n",
    "import models.utils as utils\n",
    "import numpy as np\n",
    "from inspect import getfile, getsource\n",
    "import matplotlib.pyplot as plt\n",
    "import random\n",
    "import time\n",
    "import cv2"
   ]
  },
  {
   "cell_type": "code",
   "execution_count": 2,
   "metadata": {},
   "outputs": [],
   "source": [
    "def label_process(label):\n",
    "    d1 = mx.nd.zeros(10)\n",
    "    d2 = mx.nd.zeros(11)\n",
    "    d1[int(label[0])] = 1\n",
    "    d2[int(label[1])] = 1\n",
    "    return d1, d2"
   ]
  },
  {
   "cell_type": "code",
   "execution_count": 3,
   "metadata": {},
   "outputs": [],
   "source": [
    "def no_process(label):\n",
    "    return label[0], label[1]"
   ]
  },
  {
   "cell_type": "code",
   "execution_count": 46,
   "metadata": {},
   "outputs": [],
   "source": [
    "def image_norm(image):\n",
    "    return image / 127.5 - 1"
   ]
  },
  {
   "cell_type": "code",
   "execution_count": 47,
   "metadata": {},
   "outputs": [],
   "source": [
    "class ImageIter(mx.io.DataIter):\n",
    "    def __init__(self, path=None, rec_file=False, batch_size=32, shuffle=True, number_of_labels=1, label_preprocess_func=None, image_preprocess_func=None, output_size=(3, 224, 224)):\n",
    "        super(ImageIter, self).__init__()\n",
    "        self.current_batch = 0\n",
    "        self.current_index = 0\n",
    "        self.number_of_labels = number_of_labels\n",
    "        self.batch_size = batch_size\n",
    "        self.path = path\n",
    "        self.rec_file = rec_file\n",
    "        self.shuffle = shuffle\n",
    "        self.label_preprocess_func = label_preprocess_func\n",
    "        self.image_preprocess_func = image_preprocess_func\n",
    "        self.output_size = output_size\n",
    "        self._provide_data = list(zip(['data'], [(self.batch_size, *self.output_size)]))\n",
    "        self._provide_label = list(zip(['output_' + str(x) for x in range(self.number_of_labels)], [(self.batch_size,) for x in range(self.number_of_labels)]))\n",
    "        if self.rec_file:\n",
    "            self.record_file = mx.recordio.MXIndexedRecordIO(self.path + '.idx', self.path + '.rec', 'r')\n",
    "            self.number_of_batches = len(self.record_file.keys) // self.batch_size\n",
    "            self.image_indices = list(self.record_file.keys)\n",
    "            if self.shuffle:\n",
    "                random.shuffle(self.image_indices)\n",
    "        else:\n",
    "            raise 'Not implemented'\n",
    "            \n",
    "    def __iter__(self):\n",
    "        return self\n",
    "    \n",
    "    def __len__(self):\n",
    "        return self.number_of_batches\n",
    "    \n",
    "    def reset(self):\n",
    "        self.current_index = 0\n",
    "        self.current_batch = 0\n",
    "        if self.shuffle:\n",
    "            random.shuffle(self.image_indices)\n",
    "    \n",
    "    def next_sample(self):\n",
    "        sample = self.record_file.read_idx(self.image_indices[self.current_index])\n",
    "        header, img = mx.recordio.unpack(sample)\n",
    "        img = mx.image.imdecode(img)\n",
    "        label = header.label\n",
    "        self.current_index += 1\n",
    "        return img, label\n",
    "        \n",
    "    def next(self):\n",
    "        if self.current_batch < self.number_of_batches:\n",
    "            self.current_batch += 1\n",
    "            batch_data = mx.nd.zeros((self.batch_size, *self.output_size))\n",
    "            labels = [mx.nd.zeros((self.batch_size)) for _ in range(self.number_of_labels)]\n",
    "            for i in range(self.batch_size):\n",
    "                data, label = self.next_sample()\n",
    "                if self.label_preprocess_func is not None:\n",
    "                    label = self.label_preprocess_func(label) \n",
    "                if self.image_preprocess_func is not None:\n",
    "                    data = self.image_preprocess_func(data)  \n",
    "                batch_data[i] = mx.nd.transpose(data, axes=(2, 0, 1))\n",
    "                for x in range(self.number_of_labels):\n",
    "                    labels[x][i] = label[x]\n",
    "            return mx.io.DataBatch([batch_data], labels)\n",
    "        else:\n",
    "            raise StopIteration\n",
    "            \n",
    "    @property\n",
    "    def provide_data(self):\n",
    "        return self._provide_data\n",
    "    \n",
    "    @property\n",
    "    def provide_label(self):\n",
    "        return self._provide_label"
   ]
  },
  {
   "cell_type": "code",
   "execution_count": 48,
   "metadata": {},
   "outputs": [],
   "source": [
    "itea = ImageIter(path='../mxnet_digits/test_run_train', batch_size=378, rec_file=True, output_size=(3, 150, 100), label_preprocess_func=no_process, number_of_labels=2, image_preprocess_func=image_norm)\n",
    "valid_data_iter = ImageIter(path='../mxnet_digits/test_run_valid', batch_size=378, rec_file=True, output_size=(3, 150, 100), label_preprocess_func=no_process, number_of_labels=2,image_preprocess_func=image_norm)"
   ]
  },
  {
   "cell_type": "code",
   "execution_count": 49,
   "metadata": {
    "scrolled": true
   },
   "outputs": [],
   "source": [
    "data = mx.sym.var('data')\n",
    "output_1 = mx.sym.var('output_0')\n",
    "output_2 = mx.sym.var('output_1')\n",
    "net0  = mx.sym.Convolution(data=data, kernel=(3,3), stride=(1,1), num_filter=16, pad=(1,1))\n",
    "net = mx.sym.Activation(data=net0, act_type=\"relu\")\n",
    "net  = mx.sym.BatchNorm(data=net)\n",
    "# net = mx.sym.add_n(net, net0)\n",
    "net = mx.sym.Pooling(data=net, pool_type=\"max\", kernel=(2,2), stride=(2,2))\n",
    "net1  = mx.sym.Convolution(data=net, kernel=(1,1), stride=(1,1), num_filter=32)\n",
    "net  = mx.sym.Convolution(data=net1, kernel=(3,3), stride=(1,1), num_filter=32, pad=(1,1))\n",
    "net = mx.sym.Activation(data=net, act_type=\"relu\")\n",
    "net  = mx.sym.BatchNorm(data=net)\n",
    "net = mx.sym.add_n(net, net1)\n",
    "net = mx.sym.Pooling(data=net, pool_type=\"max\", kernel=(2,2), stride=(2,2))\n",
    "net2  = mx.sym.Convolution(data=net, kernel=(1,1), stride=(1,1), num_filter=64)\n",
    "net  = mx.sym.Convolution(data=net2, kernel=(3,3), stride=(1,1), num_filter=64, pad=(1,1))\n",
    "net = mx.sym.Activation(data=net, act_type=\"relu\")\n",
    "net  = mx.sym.BatchNorm(data=net)\n",
    "net = mx.sym.add_n(net, net2)\n",
    "net = mx.sym.Pooling(data=net, pool_type=\"max\", kernel=(2,2), stride=(2,2))\n",
    "net3  = mx.sym.Convolution(data=net, kernel=(1,1), stride=(1,1), num_filter=128)\n",
    "net  = mx.sym.Convolution(data=net3, kernel=(3,3), stride=(1,1), num_filter=128, pad=(1,1))\n",
    "net = mx.sym.Activation(data=net, act_type=\"relu\")\n",
    "net  = mx.sym.BatchNorm(data=net)\n",
    "net = mx.sym.add_n(net, net3)\n",
    "net = mx.sym.Pooling(data=net, pool_type=\"max\", kernel=(18,12), stride=(18,12))\n",
    "net = mx.sym.Flatten(data=net)\n",
    "net  = mx.sym.BatchNorm(data=net)\n",
    "fc4  = mx.sym.FullyConnected(data=net, num_hidden=10)\n",
    "out1  = mx.sym.SoftmaxOutput(data=fc4, name='output_0', label=output_1)\n",
    "fc5  = mx.sym.FullyConnected(data=net, num_hidden=11)\n",
    "out2  = mx.sym.SoftmaxOutput(data=fc5, name='output_1', label=output_2)\n",
    "group = mx.sym.Group([out1, out2])\n",
    "\n",
    "# print(group.list_outputs())\n",
    "# print(train_data_iter.getlabel())\n",
    "model = mx.mod.Module(group, context = mx.gpu(), label_names=('output_0', 'output_1',))\n",
    "# print(mx.viz.print_summary(out1))\n",
    "model.bind(data_shapes=itea.provide_data, label_shapes=itea.provide_label)\n",
    "model.init_params()\n",
    "model.init_optimizer(optimizer = 'adam', optimizer_params={'learning_rate': 0.01})\n",
    "# model.fit(itea, num_epoch=10)"
   ]
  },
  {
   "cell_type": "code",
   "execution_count": 50,
   "metadata": {},
   "outputs": [],
   "source": [
    "import mxnet as mx\n",
    "from tqdm import tqdm\n",
    "\n",
    "def reset_metrics(metrics):\n",
    "    for metric in metrics:\n",
    "        metric.reset()\n",
    "\n",
    "class ImageClassifierTrainer:\n",
    "    def __init__(self, output_symbol, label_names, training_iterator, validation_iterator=None, context = mx.gpu(), optimizer= 'adam'):\n",
    "        self.model = mx.mod.Module(output_symbol, context=context, label_names=label_names)\n",
    "        self.model.bind(data_shapes=training_iterator.provide_data, label_shapes=training_iterator.provide_label)\n",
    "        self.model.init_params()\n",
    "        self.model.init_optimizer(optimizer=optimizer, optimizer_params={'learning_rate': 0.001})\n",
    "        self.label_names = label_names\n",
    "        self.acc_metrics = [mx.metric.Accuracy() for _ in self.label_names]\n",
    "        self.training_iterator = training_iterator\n",
    "        self.validation_iterator = validation_iterator\n",
    "\n",
    "    def train(self, epochs=30):\n",
    "        for epoch in range(epochs):\n",
    "            reset_metrics(self.acc_metrics)\n",
    "            self.training_iterator.reset()\n",
    "            for batch_index, batch in enumerate(self.training_iterator):\n",
    "                self.model.forward(batch, is_train=True)\n",
    "                outputs = self.model.get_outputs()\n",
    "                self.model.backward()\n",
    "                self.model.update()\n",
    "                output_string = ''\n",
    "                \n",
    "                for label_number in range(len(self.label_names)):\n",
    "                    self.acc_metrics[label_number].update(batch.label[label_number], outputs[label_number])\n",
    "                    output_string += f'\\tOutput{label_number}_acc:{self.acc_metrics[label_number].get()[1]:.3f}'\n",
    "                print(f'\\rEpoch:{epoch}\\tBatch:{batch_index}'+output_string, end='', flush=True)\n",
    "                \n",
    "            if self.validation_iterator is not None:\n",
    "                self.validation_iterator.reset()\n",
    "                reset_metrics(self.acc_metrics)\n",
    "                for batch in self.validation_iterator:\n",
    "                    self.model.forward(batch, is_train=False)\n",
    "                    outputs = self.model.get_outputs()\n",
    "                    output_string = ''\n",
    "                    for label_number in range(len(self.label_names)):\n",
    "                        self.acc_metrics[label_number].update(batch.label[label_number], outputs[label_number])\n",
    "                for label_number in range(len(self.label_names)):\n",
    "                    output_string += f'\\tOutput{label_number}_acc:{self.acc_metrics[label_number].get()[1]:.3f}'\n",
    "                print(f'\\nValidation\\tEpoch:{epoch}\\tBatch:{batch_index}'+output_string)"
   ]
  },
  {
   "cell_type": "code",
   "execution_count": 51,
   "metadata": {},
   "outputs": [],
   "source": [
    "ict = ImageClassifierTrainer(group, ('output_0', 'output_1',), itea, valid_data_iter)"
   ]
  },
  {
   "cell_type": "code",
   "execution_count": null,
   "metadata": {},
   "outputs": [
    {
     "name": "stdout",
     "output_type": "stream",
     "text": [
      "Epoch:0\tBatch:669\tOutput0_acc:0.829\tOutput1_acc:0.555\n",
      "Validation\tEpoch:0\tBatch:669\tOutput0_acc:0.842\tOutput1_acc:0.605\n",
      "Epoch:1\tBatch:669\tOutput0_acc:0.893\tOutput1_acc:0.742\n",
      "Validation\tEpoch:1\tBatch:669\tOutput0_acc:0.864\tOutput1_acc:0.660\n",
      "Epoch:2\tBatch:669\tOutput0_acc:0.904\tOutput1_acc:0.767\n",
      "Validation\tEpoch:2\tBatch:669\tOutput0_acc:0.852\tOutput1_acc:0.696\n",
      "Epoch:3\tBatch:669\tOutput0_acc:0.910\tOutput1_acc:0.783"
     ]
    }
   ],
   "source": [
    "ict.train()"
   ]
  },
  {
   "cell_type": "code",
   "execution_count": 558,
   "metadata": {},
   "outputs": [],
   "source": [
    "model.save_params('test_model')"
   ]
  },
  {
   "cell_type": "code",
   "execution_count": 554,
   "metadata": {},
   "outputs": [],
   "source": [
    "valid_data_iter.reset()\n",
    "batch = next(valid_data_iter)"
   ]
  },
  {
   "cell_type": "code",
   "execution_count": 555,
   "metadata": {},
   "outputs": [],
   "source": [
    "predictions = model.predict(batch.data[0], merge_batches=True, always_output_list=True)"
   ]
  },
  {
   "cell_type": "code",
   "execution_count": 556,
   "metadata": {},
   "outputs": [
    {
     "data": {
      "text/plain": [
       "\n",
       "[[9.9984896e-01 4.7614012e-05 5.4957371e-05 ... 3.3027622e-11\n",
       "  6.1800706e-13 4.8419024e-05]\n",
       " [1.9904542e-04 2.9305183e-05 5.7291021e-07 ... 1.5013578e-08\n",
       "  4.6371595e-10 9.9977106e-01]\n",
       " [4.0028456e-07 9.9999285e-01 6.7124965e-06 ... 3.7853543e-14\n",
       "  3.1473376e-12 1.1813194e-08]\n",
       " ...\n",
       " [1.9773508e-03 5.8043432e-05 3.0928223e-07 ... 1.1719445e-14\n",
       "  1.0281246e-14 9.9796426e-01]\n",
       " [8.9898239e-10 3.6791579e-13 9.8164413e-13 ... 2.5477761e-26\n",
       "  2.3311063e-17 1.0000000e+00]\n",
       " [9.1151839e-01 1.0066559e-04 1.9343843e-06 ... 1.7313485e-12\n",
       "  2.0638210e-13 8.8379040e-02]]\n",
       "<NDArray 378x10 @gpu(0)>"
      ]
     },
     "execution_count": 556,
     "metadata": {},
     "output_type": "execute_result"
    }
   ],
   "source": [
    "predictions"
   ]
  },
  {
   "cell_type": "code",
   "execution_count": 557,
   "metadata": {},
   "outputs": [
    {
     "name": "stdout",
     "output_type": "stream",
     "text": [
      "\n",
      "[4.85393405e-03 2.78995813e-05 1.74315028e-06 1.09116255e-13\n",
      " 1.99100458e-11 6.96403435e-10 3.41702240e-08 6.89885302e-11\n",
      " 5.44822434e-12 9.95116353e-01]\n",
      "<NDArray 10 @gpu(0)> 9 7\n",
      "\n",
      "[4.2418901e-06 4.1776333e-05 6.3452084e-04 7.2654843e-06 2.7431277e-06\n",
      " 4.6332408e-07 3.1041390e-07 9.9927634e-01 3.1882664e-07 3.0993822e-05\n",
      " 1.0362614e-06]\n",
      "<NDArray 11 @gpu(0)>\n"
     ]
    },
    {
     "data": {
      "image/png": "[encoded data removed]",
      "text/plain": [
       "<Figure size 432x288 with 1 Axes>"
      ]
     },
     "metadata": {
      "needs_background": "light"
     },
     "output_type": "display_data"
    }
   ],
   "source": [
    "print(predictions[3], batch.label[0][3].asnumpy().astype(int)[0], batch.label[1][3].asnumpy().astype(int)[0])\n",
    "plt.imshow(np.rollaxis(batch.data[0].asnumpy().astype(int), 1, 4)[3])\n",
    "print(model.get_outputs()[1][3])"
   ]
  },
  {
   "cell_type": "code",
   "execution_count": null,
   "metadata": {},
   "outputs": [],
   "source": []
  },
  {
   "cell_type": "code",
   "execution_count": 261,
   "metadata": {},
   "outputs": [
    {
     "data": {
      "text/plain": [
       "(256, 3, 150, 100)"
      ]
     },
     "execution_count": 261,
     "metadata": {},
     "output_type": "execute_result"
    }
   ],
   "source": [
    "batch.data[0].asnumpy().shape"
   ]
  },
  {
   "cell_type": "code",
   "execution_count": 262,
   "metadata": {},
   "outputs": [
    {
     "data": {
      "text/plain": [
       "(256, 150, 100, 3)"
      ]
     },
     "execution_count": 262,
     "metadata": {},
     "output_type": "execute_result"
    }
   ],
   "source": [
    "np.rollaxis(batch.data[0].asnumpy(), 1, 4).shape"
   ]
  },
  {
   "cell_type": "code",
   "execution_count": 290,
   "metadata": {},
   "outputs": [
    {
     "data": {
      "text/plain": [
       "<matplotlib.image.AxesImage at 0x7fd7a4ee5c88>"
      ]
     },
     "execution_count": 290,
     "metadata": {},
     "output_type": "execute_result"
    },
    {
     "data": {
      "image/png": "[encoded data removed]",
      "text/plain": [
       "<Figure size 432x288 with 1 Axes>"
      ]
     },
     "metadata": {
      "needs_background": "light"
     },
     "output_type": "display_data"
    }
   ],
   "source": []
  },
  {
   "cell_type": "code",
   "execution_count": 273,
   "metadata": {},
   "outputs": [
    {
     "name": "stdout",
     "output_type": "stream",
     "text": [
      "\n",
      "[[2.06142783e-01 1.72818869e-01 1.67021994e-03 ... 3.23599529e-08\n",
      "  6.19298100e-01 1.38653263e-06]\n",
      " [1.47781875e-02 8.10969993e-03 3.68540804e-03 ... 3.80690098e-11\n",
      "  9.73426282e-01 3.06208214e-08]\n",
      " [6.40088975e-01 3.80482078e-02 4.34868969e-03 ... 1.18851567e-10\n",
      "  3.17494363e-01 7.50416440e-09]\n",
      " ...\n",
      " [1.61285907e-01 4.92342040e-02 1.12652975e-04 ... 1.66106073e-09\n",
      "  7.89259195e-01 8.48483580e-07]\n",
      " [3.62633377e-01 5.49655735e-01 2.20602215e-03 ... 3.29044042e-10\n",
      "  8.54990184e-02 1.34267006e-08]\n",
      " [8.37492943e-01 1.13681378e-03 1.34476417e-04 ... 3.52788443e-09\n",
      "  1.61228776e-01 1.58823337e-08]]\n",
      "<NDArray 256x11 @gpu(0)>\n"
     ]
    }
   ],
   "source": [
    "print(predictions)"
   ]
  }
 ],
 "metadata": {
  "kernelspec": {
   "display_name": "Python 3",
   "language": "python",
   "name": "python3"
  },
  "language_info": {
   "codemirror_mode": {
    "name": "ipython",
    "version": 3
   },
   "file_extension": ".py",
   "mimetype": "text/x-python",
   "name": "python",
   "nbconvert_exporter": "python",
   "pygments_lexer": "ipython3",
   "version": "3.6.8"
  }
 },
 "nbformat": 4,
 "nbformat_minor": 2
}
