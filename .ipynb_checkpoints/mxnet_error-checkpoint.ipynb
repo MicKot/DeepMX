{
 "cells": [
  {
   "cell_type": "code",
   "execution_count": 1,
   "metadata": {},
   "outputs": [],
   "source": [
    "import mxnet as mx\n",
    "import models.utils as utils\n",
    "import numpy as np\n",
    "from inspect import getfile, getsource\n",
    "import matplotlib.pyplot as plt\n",
    "import random\n",
    "import time\n",
    "import cv2"
   ]
  },
  {
   "cell_type": "code",
   "execution_count": 2,
   "metadata": {},
   "outputs": [],
   "source": [
    "data = mx.sym.var('data')\n",
    "output_1 = mx.sym.var('output_0')\n",
    "output_2 = mx.sym.var('output_1')\n",
    "fc4  = mx.sym.FullyConnected(data=data, num_hidden=10)\n",
    "out1  = mx.sym.SoftmaxOutput(data=fc4, name='output_0', label=output_1)\n",
    "fc5  = mx.sym.FullyConnected(data=data, num_hidden=10)\n",
    "out2  = mx.sym.SoftmaxOutput(data=fc5, name='output_1', label=output_2)\n",
    "group = mx.sym.Group([out1, out2])"
   ]
  },
  {
   "cell_type": "code",
   "execution_count": 4,
   "metadata": {},
   "outputs": [
    {
     "name": "stderr",
     "output_type": "stream",
     "text": [
      "/home/codahead/anaconda3/envs/python3/lib/python3.6/site-packages/mxnet/module/base_module.py:55: UserWarning: \u001b[91mYou created Module with Module(..., label_names=['softmax_label']) but input with name 'softmax_label' is not found in symbol.list_arguments(). Did you mean one of:\n",
      "\tdata\n",
      "\toutput_0\n",
      "\toutput_1\u001b[0m\n",
      "  warnings.warn(msg)\n"
     ]
    }
   ],
   "source": [
    "model = mx.mod.Module(group, context = mx.gpu(), label_names=['output_0', 'output_1'])"
   ]
  },
  {
   "cell_type": "code",
   "execution_count": null,
   "metadata": {},
   "outputs": [],
   "source": []
  }
 ],
 "metadata": {
  "kernelspec": {
   "display_name": "Python 3",
   "language": "python",
   "name": "python3"
  },
  "language_info": {
   "codemirror_mode": {
    "name": "ipython",
    "version": 3
   },
   "file_extension": ".py",
   "mimetype": "text/x-python",
   "name": "python",
   "nbconvert_exporter": "python",
   "pygments_lexer": "ipython3",
   "version": "3.6.8"
  }
 },
 "nbformat": 4,
 "nbformat_minor": 2
}
