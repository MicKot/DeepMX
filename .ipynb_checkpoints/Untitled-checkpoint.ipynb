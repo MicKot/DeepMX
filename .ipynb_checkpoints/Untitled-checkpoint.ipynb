{
 "cells": [
  {
   "cell_type": "code",
   "execution_count": 3,
   "metadata": {},
   "outputs": [],
   "source": [
    "import mxnet as mx\n",
    "import mxnet.gluon.model_zoo.vision.densenet as dsnet\n",
    "import models.utils as utils\n",
    "import numpy as np\n",
    "from inspect import getfile, getsource\n",
    "import matplotlib.pyplot as plt\n",
    "import random"
   ]
  },
  {
   "cell_type": "code",
   "execution_count": 4,
   "metadata": {},
   "outputs": [],
   "source": [
    "def label_process(label):\n",
    "    d1 = mx.nd.zeros(11)\n",
    "    d2 = mx.nd.zeros(11)\n",
    "    d1[int(label[0])] = 1\n",
    "    d2[int(label[1])] = 1\n",
    "    return d1, d2"
   ]
  },
  {
   "cell_type": "code",
   "execution_count": 32,
   "metadata": {},
   "outputs": [],
   "source": [
    "class ImageIter(mx.io.DataIter):\n",
    "    def __init__(self, path=None, rec_file=False, batch_size=32, shuffle=True, number_of_labels=1, label_preprocess_func=None, output_size=(3, 224, 224), label_shapes=(11, 11)):\n",
    "        self.current_batch = 0\n",
    "        self.current_index = 0\n",
    "        self.label_shapes = label_shapes\n",
    "        self.number_of_labels = number_of_labels\n",
    "        self.batch_size = batch_size\n",
    "        self.path = path\n",
    "        self.rec_file = rec_file\n",
    "        self.shuffle = shuffle\n",
    "        self.label_preprocess_func = label_preprocess_func\n",
    "        self.output_size = output_size\n",
    "        if self.rec_file:\n",
    "            self.record_file = mx.recordio.MXIndexedRecordIO(self.path + '.idx', self.path + '.rec', 'r')\n",
    "            self.number_of_batches = len(self.record_file.keys) // self.batch_size\n",
    "            self.image_indices = list(self.record_file.keys)\n",
    "            if self.shuffle:\n",
    "                random.shuffle(self.image_indices)\n",
    "            \n",
    "    def __iter__(self):\n",
    "        return self\n",
    "    \n",
    "    def reset(self):\n",
    "        self.current_index = 0\n",
    "        self.current_batch = 0\n",
    "        if self.shuffle:\n",
    "            random.shuffle(self.image_indices)\n",
    "    \n",
    "    def next_sample(self):\n",
    "        sample = self.record_file.read_idx(self.image_indices[self.current_index])\n",
    "        header, img = mx.recordio.unpack(sample)\n",
    "        img = mx.image.imdecode(img)\n",
    "        label = header.label\n",
    "        self.current_index += 1\n",
    "        return img, label\n",
    "        \n",
    "    def next(self):\n",
    "        if self.current_batch < self.number_of_batches:\n",
    "            self.current_batch += 1\n",
    "            batch_data = mx.nd.empty((self.batch_size, *self.output_size))\n",
    "            labels = mx.nd.empty((self.batch_size, *self.output_size))\n",
    "            for i in range(self.batch_size):\n",
    "                data, label = self.next_sample()\n",
    "                if self.label_preprocess_func is not None:\n",
    "                    label = self.label_preprocess_func(label)   \n",
    "                batch_data[i] = mx.nd.transpose(data, axes=(2, 0, 1))\n",
    "                labels[i] = *label\n",
    "            labels = [mx.nd.array(x) for x in labels]\n",
    "            return mx.io.DataBatch([batch_data], labels)\n",
    "        else:\n",
    "            raise StopIteration "
   ]
  },
  {
   "cell_type": "code",
   "execution_count": 33,
   "metadata": {},
   "outputs": [],
   "source": [
    "itea = ImageIter(path='../mxnet_digits/test_run_valid', rec_file=True, output_size=(3, 150, 100), label_preprocess_func=label_process)"
   ]
  },
  {
   "cell_type": "code",
   "execution_count": 34,
   "metadata": {},
   "outputs": [
    {
     "name": "stdout",
     "output_type": "stream",
     "text": [
      "\n",
      "[1.9550692e+27]\n",
      "<NDArray 1 @cpu(0)> (\n",
      "[1. 0. 0. 0. 0. 0. 0. 0. 0. 0. 0.]\n",
      "<NDArray 11 @cpu(0)>, \n",
      "[0. 0. 0. 0. 0. 0. 0. 0. 1. 0. 0.]\n",
      "<NDArray 11 @cpu(0)>)\n"
     ]
    },
    {
     "ename": "AssertionError",
     "evalue": "Positional arguments must have NDArray type, but got (\n[1. 0. 0. 0. 0. 0. 0. 0. 0. 0. 0.]\n<NDArray 11 @cpu(0)>, \n[0. 0. 0. 0. 0. 0. 0. 0. 1. 0. 0.]\n<NDArray 11 @cpu(0)>)",
     "output_type": "error",
     "traceback": [
      "\u001b[0;31m---------------------------------------------------------------------------\u001b[0m",
      "\u001b[0;31mAssertionError\u001b[0m                            Traceback (most recent call last)",
      "\u001b[0;32m<ipython-input-34-e6763d1f836b>\u001b[0m in \u001b[0;36m<module>\u001b[0;34m\u001b[0m\n\u001b[0;32m----> 1\u001b[0;31m \u001b[0mbatch\u001b[0m \u001b[0;34m=\u001b[0m \u001b[0mnext\u001b[0m\u001b[0;34m(\u001b[0m\u001b[0mitea\u001b[0m\u001b[0;34m)\u001b[0m\u001b[0;34m\u001b[0m\u001b[0;34m\u001b[0m\u001b[0m\n\u001b[0m",
      "\u001b[0;32m~/anaconda3/envs/python3/lib/python3.6/site-packages/mxnet/io/io.py\u001b[0m in \u001b[0;36m__next__\u001b[0;34m(self)\u001b[0m\n\u001b[1;32m    226\u001b[0m \u001b[0;34m\u001b[0m\u001b[0m\n\u001b[1;32m    227\u001b[0m     \u001b[0;32mdef\u001b[0m \u001b[0m__next__\u001b[0m\u001b[0;34m(\u001b[0m\u001b[0mself\u001b[0m\u001b[0;34m)\u001b[0m\u001b[0;34m:\u001b[0m\u001b[0;34m\u001b[0m\u001b[0;34m\u001b[0m\u001b[0m\n\u001b[0;32m--> 228\u001b[0;31m         \u001b[0;32mreturn\u001b[0m \u001b[0mself\u001b[0m\u001b[0;34m.\u001b[0m\u001b[0mnext\u001b[0m\u001b[0;34m(\u001b[0m\u001b[0;34m)\u001b[0m\u001b[0;34m\u001b[0m\u001b[0;34m\u001b[0m\u001b[0m\n\u001b[0m\u001b[1;32m    229\u001b[0m \u001b[0;34m\u001b[0m\u001b[0m\n\u001b[1;32m    230\u001b[0m     \u001b[0;32mdef\u001b[0m \u001b[0miter_next\u001b[0m\u001b[0;34m(\u001b[0m\u001b[0mself\u001b[0m\u001b[0;34m)\u001b[0m\u001b[0;34m:\u001b[0m\u001b[0;34m\u001b[0m\u001b[0;34m\u001b[0m\u001b[0m\n",
      "\u001b[0;32m<ipython-input-32-9b8b234cb437>\u001b[0m in \u001b[0;36mnext\u001b[0;34m(self)\u001b[0m\n\u001b[1;32m     48\u001b[0m                 \u001b[0;32mfor\u001b[0m \u001b[0mx\u001b[0m \u001b[0;32min\u001b[0m \u001b[0mrange\u001b[0m\u001b[0;34m(\u001b[0m\u001b[0mself\u001b[0m\u001b[0;34m.\u001b[0m\u001b[0mnumber_of_labels\u001b[0m\u001b[0;34m)\u001b[0m\u001b[0;34m:\u001b[0m\u001b[0;34m\u001b[0m\u001b[0;34m\u001b[0m\u001b[0m\n\u001b[1;32m     49\u001b[0m                     \u001b[0mprint\u001b[0m\u001b[0;34m(\u001b[0m\u001b[0mlabels\u001b[0m\u001b[0;34m[\u001b[0m\u001b[0mx\u001b[0m\u001b[0;34m]\u001b[0m\u001b[0;34m,\u001b[0m \u001b[0mlabel\u001b[0m\u001b[0;34m)\u001b[0m\u001b[0;34m\u001b[0m\u001b[0;34m\u001b[0m\u001b[0m\n\u001b[0;32m---> 50\u001b[0;31m                     \u001b[0mlabels\u001b[0m\u001b[0;34m[\u001b[0m\u001b[0mx\u001b[0m\u001b[0;34m]\u001b[0m \u001b[0;34m=\u001b[0m \u001b[0mmx\u001b[0m\u001b[0;34m.\u001b[0m\u001b[0mnd\u001b[0m\u001b[0;34m.\u001b[0m\u001b[0mconcat\u001b[0m\u001b[0;34m(\u001b[0m\u001b[0mlabels\u001b[0m\u001b[0;34m[\u001b[0m\u001b[0mx\u001b[0m\u001b[0;34m]\u001b[0m\u001b[0;34m,\u001b[0m \u001b[0mlabel\u001b[0m\u001b[0;34m,\u001b[0m \u001b[0mdim\u001b[0m\u001b[0;34m=\u001b[0m\u001b[0;36m0\u001b[0m\u001b[0;34m)\u001b[0m\u001b[0;34m\u001b[0m\u001b[0;34m\u001b[0m\u001b[0m\n\u001b[0m\u001b[1;32m     51\u001b[0m             \u001b[0mprint\u001b[0m\u001b[0;34m(\u001b[0m\u001b[0mmx\u001b[0m\u001b[0;34m.\u001b[0m\u001b[0mnd\u001b[0m\u001b[0;34m.\u001b[0m\u001b[0marray\u001b[0m\u001b[0;34m(\u001b[0m\u001b[0mlabels\u001b[0m\u001b[0;34m[\u001b[0m\u001b[0;36m0\u001b[0m\u001b[0;34m]\u001b[0m\u001b[0;34m)\u001b[0m\u001b[0;34m)\u001b[0m\u001b[0;34m\u001b[0m\u001b[0;34m\u001b[0m\u001b[0m\n\u001b[1;32m     52\u001b[0m             \u001b[0mlabels\u001b[0m \u001b[0;34m=\u001b[0m \u001b[0;34m[\u001b[0m\u001b[0mmx\u001b[0m\u001b[0;34m.\u001b[0m\u001b[0mnd\u001b[0m\u001b[0;34m.\u001b[0m\u001b[0marray\u001b[0m\u001b[0;34m(\u001b[0m\u001b[0mx\u001b[0m\u001b[0;34m)\u001b[0m \u001b[0;32mfor\u001b[0m \u001b[0mx\u001b[0m \u001b[0;32min\u001b[0m \u001b[0mlabels\u001b[0m\u001b[0;34m]\u001b[0m\u001b[0;34m\u001b[0m\u001b[0;34m\u001b[0m\u001b[0m\n",
      "\u001b[0;32m~/anaconda3/envs/python3/lib/python3.6/site-packages/mxnet/ndarray/register.py\u001b[0m in \u001b[0;36mconcat\u001b[0;34m(*data, **kwargs)\u001b[0m\n",
      "\u001b[0;31mAssertionError\u001b[0m: Positional arguments must have NDArray type, but got (\n[1. 0. 0. 0. 0. 0. 0. 0. 0. 0. 0.]\n<NDArray 11 @cpu(0)>, \n[0. 0. 0. 0. 0. 0. 0. 0. 1. 0. 0.]\n<NDArray 11 @cpu(0)>)"
     ]
    }
   ],
   "source": [
    "batch = next(itea)"
   ]
  },
  {
   "cell_type": "code",
   "execution_count": 253,
   "metadata": {},
   "outputs": [
    {
     "ename": "NameError",
     "evalue": "name 'train_data_iter' is not defined",
     "output_type": "error",
     "traceback": [
      "\u001b[0;31m---------------------------------------------------------------------------\u001b[0m",
      "\u001b[0;31mNameError\u001b[0m                                 Traceback (most recent call last)",
      "\u001b[0;32m<ipython-input-253-2777a12bab31>\u001b[0m in \u001b[0;36m<module>\u001b[0;34m\u001b[0m\n\u001b[1;32m     23\u001b[0m \u001b[0mmodel\u001b[0m \u001b[0;34m=\u001b[0m \u001b[0mmx\u001b[0m\u001b[0;34m.\u001b[0m\u001b[0mmod\u001b[0m\u001b[0;34m.\u001b[0m\u001b[0mModule\u001b[0m\u001b[0;34m(\u001b[0m\u001b[0mgroup\u001b[0m\u001b[0;34m,\u001b[0m \u001b[0mcontext\u001b[0m \u001b[0;34m=\u001b[0m \u001b[0mmx\u001b[0m\u001b[0;34m.\u001b[0m\u001b[0mgpu\u001b[0m\u001b[0;34m(\u001b[0m\u001b[0;34m)\u001b[0m\u001b[0;34m,\u001b[0m \u001b[0mlabel_names\u001b[0m\u001b[0;34m=\u001b[0m\u001b[0;34m[\u001b[0m\u001b[0;34m'd1_label'\u001b[0m\u001b[0;34m,\u001b[0m \u001b[0;34m'd2_label'\u001b[0m\u001b[0;34m]\u001b[0m\u001b[0;34m)\u001b[0m\u001b[0;34m\u001b[0m\u001b[0;34m\u001b[0m\u001b[0m\n\u001b[1;32m     24\u001b[0m \u001b[0;31m# print(mx.viz.print_summary(out1))\u001b[0m\u001b[0;34m\u001b[0m\u001b[0;34m\u001b[0m\u001b[0;34m\u001b[0m\u001b[0m\n\u001b[0;32m---> 25\u001b[0;31m \u001b[0mmodel\u001b[0m\u001b[0;34m.\u001b[0m\u001b[0mbind\u001b[0m\u001b[0;34m(\u001b[0m\u001b[0mdata_shapes\u001b[0m \u001b[0;34m=\u001b[0m \u001b[0mtrain_data_iter\u001b[0m\u001b[0;34m.\u001b[0m\u001b[0mprovide_data\u001b[0m\u001b[0;34m,\u001b[0m \u001b[0mlabel_shapes\u001b[0m \u001b[0;34m=\u001b[0m \u001b[0mtrain_data_iter\u001b[0m\u001b[0;34m.\u001b[0m\u001b[0mprovide_label\u001b[0m\u001b[0;34m)\u001b[0m\u001b[0;34m\u001b[0m\u001b[0;34m\u001b[0m\u001b[0m\n\u001b[0m\u001b[1;32m     26\u001b[0m \u001b[0mmodel\u001b[0m\u001b[0;34m.\u001b[0m\u001b[0minit_params\u001b[0m\u001b[0;34m(\u001b[0m\u001b[0;34m)\u001b[0m\u001b[0;34m\u001b[0m\u001b[0;34m\u001b[0m\u001b[0m\n\u001b[1;32m     27\u001b[0m \u001b[0mmodel\u001b[0m\u001b[0;34m.\u001b[0m\u001b[0minit_optimizer\u001b[0m\u001b[0;34m(\u001b[0m\u001b[0moptimizer\u001b[0m \u001b[0;34m=\u001b[0m \u001b[0;34m'adam'\u001b[0m\u001b[0;34m,\u001b[0m \u001b[0moptimizer_params\u001b[0m\u001b[0;34m=\u001b[0m\u001b[0;34m{\u001b[0m\u001b[0;34m'learning_rate'\u001b[0m\u001b[0;34m:\u001b[0m \u001b[0;36m0.001\u001b[0m\u001b[0;34m}\u001b[0m\u001b[0;34m)\u001b[0m\u001b[0;34m\u001b[0m\u001b[0;34m\u001b[0m\u001b[0m\n",
      "\u001b[0;31mNameError\u001b[0m: name 'train_data_iter' is not defined"
     ]
    }
   ],
   "source": [
    "data = mx.sym.var('data')\n",
    "net  = mx.sym.Convolution(data=data, kernel=(3,3), stride=(1,1), num_filter=16, pad=(1,1))\n",
    "net = mx.sym.Activation(data=net, act_type=\"relu\")\n",
    "net  = mx.sym.BatchNorm(data=net)\n",
    "net = mx.sym.Pooling(data=net, pool_type=\"max\", kernel=(2,2), stride=(2,2))\n",
    "net  = mx.sym.Convolution(data=net, kernel=(3,3), stride=(1,1), num_filter=32, pad=(1,1))\n",
    "net = mx.sym.Activation(data=net, act_type=\"relu\")\n",
    "net  = mx.sym.BatchNorm(data=net)\n",
    "net = mx.sym.Pooling(data=net, pool_type=\"max\", kernel=(2,2), stride=(2,2))\n",
    "net  = mx.sym.Convolution(data=net, kernel=(3,3), stride=(1,1), num_filter=64, pad=(1,1))\n",
    "net = mx.sym.Activation(data=net, act_type=\"relu\")\n",
    "net  = mx.sym.BatchNorm(data=net)\n",
    "net = mx.sym.Pooling(data=net, pool_type=\"max\", kernel=(2,2), stride=(2,2))\n",
    "net = mx.sym.Flatten(data=net)\n",
    "\n",
    "fc4  = mx.sym.FullyConnected(data=net, num_hidden=10)\n",
    "out1  = mx.sym.SoftmaxOutput(data=fc4, name='d1')\n",
    "fc5  = mx.sym.FullyConnected(data=net, num_hidden=11)\n",
    "out2  = mx.sym.SoftmaxOutput(data=fc5, name='d2')\n",
    "group = mx.sym.Group([out1, out2])\n",
    "\n",
    "# print(train_data_iter.getlabel())\n",
    "model = mx.mod.Module(group, context = mx.gpu(), label_names=['d1_label', 'd2_label'])\n",
    "# print(mx.viz.print_summary(out1))\n",
    "model.bind(data_shapes = train_data_iter.provide_data, label_shapes = train_data_iter.provide_label)\n",
    "model.init_params()\n",
    "model.init_optimizer(optimizer = 'adam', optimizer_params={'learning_rate': 0.001})\n",
    "\n",
    "metric1 = mx.metric.create('acc')\n",
    "metric2 = mx.metric.create('acc')\n",
    "\n",
    "for epoch in range(10):\n",
    "    train_data_iter.reset()\n",
    "    metric1.reset()\n",
    "    metric2.reset()\n",
    "    for batch in train_data_iter:\n",
    "        model.forward(batch, is_train=True)\n",
    "        model.backward()\n",
    "        model.update()\n",
    "        model.update_metric(metric1, batch.label[:, 0])\n",
    "        model.update_metric(metric2, batch.label[:, 1])\n",
    "    print('Epoch: {}, d1_acc: {}, d2_acc: {}'.format(epoch, metric1.get()[1], metric2.get()[1]))\n",
    "\n",
    "    valid_data_iter.reset()\n",
    "    metric1.reset()\n",
    "    metric2.reset()\n",
    "    for batch in valid_data_iter:\n",
    "        model.forward(batch, is_train=False)\n",
    "        model.update_metric(metric1, batch.label[:, 0])\n",
    "        model.update_metric(metric2, batch.label[:, 1])\n",
    "    print('Epoch: {}, d1_acc_val: {}, d2_acc_val: {}'.format(epoch, metric1.get()[1], metric2.get()[1]))"
   ]
  },
  {
   "cell_type": "code",
   "execution_count": null,
   "metadata": {},
   "outputs": [],
   "source": []
  }
 ],
 "metadata": {
  "kernelspec": {
   "display_name": "Python 3",
   "language": "python",
   "name": "python3"
  },
  "language_info": {
   "codemirror_mode": {
    "name": "ipython",
    "version": 3
   },
   "file_extension": ".py",
   "mimetype": "text/x-python",
   "name": "python",
   "nbconvert_exporter": "python",
   "pygments_lexer": "ipython3",
   "version": "3.6.8"
  }
 },
 "nbformat": 4,
 "nbformat_minor": 2
}
