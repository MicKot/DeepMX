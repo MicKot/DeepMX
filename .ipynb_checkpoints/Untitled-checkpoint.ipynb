{
 "cells": [
  {
   "cell_type": "code",
   "execution_count": 431,
   "metadata": {
    "scrolled": false
   },
   "outputs": [],
   "source": [
    "import mxnet as mx\n",
    "# import mxnet.gluon.model_zoo.vision.densenet as dsnet\n",
    "import models.utils as utils\n",
    "import numpy as np\n",
    "from inspect import getfile, getsource\n",
    "import matplotlib.pyplot as plt\n",
    "import random\n",
    "import time\n",
    "import cv2"
   ]
  },
  {
   "cell_type": "code",
   "execution_count": 432,
   "metadata": {},
   "outputs": [],
   "source": [
    "def label_process(label):\n",
    "    d1 = mx.nd.zeros(10)\n",
    "    d2 = mx.nd.zeros(11)\n",
    "    d1[int(label[0])] = 1\n",
    "    d2[int(label[1])] = 1\n",
    "    return d1, d2"
   ]
  },
  {
   "cell_type": "code",
   "execution_count": 433,
   "metadata": {},
   "outputs": [],
   "source": [
    "def no_process(label):\n",
    "    return label[0], label[1]"
   ]
  },
  {
   "cell_type": "code",
   "execution_count": 434,
   "metadata": {},
   "outputs": [],
   "source": [
    "def image_norm(image):\n",
    "    return image / 255."
   ]
  },
  {
   "cell_type": "code",
   "execution_count": 448,
   "metadata": {},
   "outputs": [],
   "source": [
    "class ImageIter(mx.io.DataIter):\n",
    "    def __init__(self, path=None, rec_file=False, batch_size=32, shuffle=True, number_of_labels=1, label_preprocess_func=None, image_preprocess_func=None, output_size=(3, 224, 224)):\n",
    "        super(ImageIter, self).__init__()\n",
    "        self.current_batch = 0\n",
    "        self.current_index = 0\n",
    "        self.number_of_labels = number_of_labels\n",
    "        self.batch_size = batch_size\n",
    "        self.path = path\n",
    "        self.rec_file = rec_file\n",
    "        self.shuffle = shuffle\n",
    "        self.label_preprocess_func = label_preprocess_func\n",
    "        self.image_preprocess_func = image_preprocess_func\n",
    "        self.output_size = output_size\n",
    "        self._provide_data = list(zip(['data'], [(self.batch_size, *self.output_size)]))\n",
    "        self._provide_label = list(zip(['output_' + str(x) for x in range(self.number_of_labels)], [(self.batch_size,) for x in range(self.number_of_labels)]))\n",
    "        if self.rec_file:\n",
    "            self.record_file = mx.recordio.MXIndexedRecordIO(self.path + '.idx', self.path + '.rec', 'r')\n",
    "            self.number_of_batches = len(self.record_file.keys) // self.batch_size\n",
    "            self.image_indices = list(self.record_file.keys)\n",
    "            if self.shuffle:\n",
    "                random.shuffle(self.image_indices)\n",
    "        else:\n",
    "            raise 'Not implemented'\n",
    "            \n",
    "    def __iter__(self):\n",
    "        return self\n",
    "    \n",
    "    def __len__(self):\n",
    "        return self.number_of_batches\n",
    "    \n",
    "    def reset(self):\n",
    "        self.current_index = 0\n",
    "        self.current_batch = 0\n",
    "        if self.shuffle:\n",
    "            random.shuffle(self.image_indices)\n",
    "    \n",
    "    def next_sample(self):\n",
    "        sample = self.record_file.read_idx(self.image_indices[self.current_index])\n",
    "        header, img = mx.recordio.unpack(sample)\n",
    "        img = mx.image.imdecode(img)\n",
    "        label = header.label\n",
    "        self.current_index += 1\n",
    "        return img, label\n",
    "        \n",
    "    def next(self):\n",
    "        if self.current_batch < self.number_of_batches:\n",
    "            self.current_batch += 1\n",
    "            batch_data = mx.nd.zeros((self.batch_size, *self.output_size))\n",
    "            labels = [mx.nd.zeros((self.batch_size)) for _ in range(self.number_of_labels)]\n",
    "            for i in range(self.batch_size):\n",
    "                data, label = self.next_sample()\n",
    "                if self.label_preprocess_func is not None:\n",
    "                    label = self.label_preprocess_func(label) \n",
    "                if self.image_preprocess_func is not None:\n",
    "                    data = self.image_preprocess_func(data)  \n",
    "                batch_data[i] = mx.nd.transpose(data, axes=(2, 0, 1))\n",
    "                for x in range(self.number_of_labels):\n",
    "                    labels[x][i] = label[x]\n",
    "            return mx.io.DataBatch([batch_data], labels)\n",
    "        else:\n",
    "            raise StopIteration\n",
    "            \n",
    "    @property\n",
    "    def provide_data(self):\n",
    "        return self._provide_data\n",
    "    \n",
    "    @property\n",
    "    def provide_label(self):\n",
    "        return self._provide_label"
   ]
  },
  {
   "cell_type": "code",
   "execution_count": 480,
   "metadata": {},
   "outputs": [],
   "source": [
    "itea = ImageIter(path='../mxnet_digits/test_run_train', batch_size=2, rec_file=True, output_size=(3, 150, 100), label_preprocess_func=no_process, number_of_labels=2, image_preprocess_func=image_norm)\n",
    "valid_data_iter = ImageIter(path='../mxnet_digits/test_run_valid', batch_size=2, rec_file=True, output_size=(3, 150, 100), label_preprocess_func=no_process, number_of_labels=2,image_preprocess_func=image_norm)"
   ]
  },
  {
   "cell_type": "code",
   "execution_count": 450,
   "metadata": {
    "scrolled": false
   },
   "outputs": [],
   "source": [
    "batch = next(itea)"
   ]
  },
  {
   "cell_type": "code",
   "execution_count": 452,
   "metadata": {},
   "outputs": [
    {
     "data": {
      "text/plain": [
       "[\n",
       " [9. 9. 0. 1. 9. 9. 0. 9. 9. 9. 0. 9. 9. 0. 0. 9. 9. 1. 0. 9. 9. 9. 0. 1.\n",
       "  0. 0. 0. 1. 0. 9. 0. 0.]\n",
       " <NDArray 32 @cpu(0)>, \n",
       " [ 5.  4.  0.  3.  4.  9.  4.  4. 10.  5.  0.  8.  2.  6.  1.  5.  3.  2.\n",
       "   8.  8.  2. 10.  9.  1.  0.  0.  4.  2.  0.  9.  1.  4.]\n",
       " <NDArray 32 @cpu(0)>]"
      ]
     },
     "execution_count": 452,
     "metadata": {},
     "output_type": "execute_result"
    }
   ],
   "source": [
    "batch.label"
   ]
  },
  {
   "cell_type": "code",
   "execution_count": 484,
   "metadata": {
    "scrolled": true
   },
   "outputs": [],
   "source": [
    "data = mx.sym.var('data')\n",
    "output_1 = mx.sym.var('output_0')\n",
    "output_2 = mx.sym.var('output_1')\n",
    "net0  = mx.sym.Convolution(data=data, kernel=(3,3), stride=(1,1), num_filter=16, pad=(1,1))\n",
    "net = mx.sym.Activation(data=net0, act_type=\"relu\")\n",
    "net  = mx.sym.BatchNorm(data=net)\n",
    "# net = mx.sym.add_n(net, net0)\n",
    "net = mx.sym.Pooling(data=net, pool_type=\"max\", kernel=(2,2), stride=(2,2))\n",
    "# net1  = mx.sym.Convolution(data=net, kernel=(1,1), stride=(1,1), num_filter=32)\n",
    "net  = mx.sym.Convolution(data=net1, kernel=(3,3), stride=(1,1), num_filter=32, pad=(1,1))\n",
    "net = mx.sym.Activation(data=net, act_type=\"relu\")\n",
    "net  = mx.sym.BatchNorm(data=net)\n",
    "# net = mx.sym.add_n(net, net1)\n",
    "net = mx.sym.Pooling(data=net, pool_type=\"max\", kernel=(2,2), stride=(2,2))\n",
    "# net2  = mx.sym.Convolution(data=net, kernel=(1,1), stride=(1,1), num_filter=64)\n",
    "net  = mx.sym.Convolution(data=net2, kernel=(3,3), stride=(1,1), num_filter=64, pad=(1,1))\n",
    "net = mx.sym.Activation(data=net, act_type=\"relu\")\n",
    "net  = mx.sym.BatchNorm(data=net)\n",
    "# net = mx.sym.add_n(net, net2)\n",
    "net = mx.sym.Pooling(data=net, pool_type=\"max\", kernel=(2,2), stride=(2,2))\n",
    "# net3  = mx.sym.Convolution(data=net, kernel=(1,1), stride=(1,1), num_filter=128)\n",
    "net  = mx.sym.Convolution(data=net3, kernel=(3,3), stride=(1,1), num_filter=128, pad=(1,1))\n",
    "net = mx.sym.Activation(data=net, act_type=\"relu\")\n",
    "net  = mx.sym.BatchNorm(data=net)\n",
    "# net = mx.sym.add_n(net, net3)\n",
    "net = mx.sym.Pooling(data=net, pool_type=\"max\", kernel=(18,12), stride=(18,12))\n",
    "net = mx.sym.Flatten(data=net)\n",
    "fc4  = mx.sym.FullyConnected(data=net, num_hidden=10)\n",
    "out1  = mx.sym.SoftmaxOutput(data=fc4, name='output_0', label=output_1)\n",
    "fc5  = mx.sym.FullyConnected(data=net, num_hidden=11)\n",
    "out2  = mx.sym.SoftmaxOutput(data=fc5, name='output_1', label=output_2)\n",
    "group = mx.sym.Group([out1, out2])\n",
    "\n",
    "# print(group.list_outputs())\n",
    "# print(train_data_iter.getlabel())\n",
    "model = mx.mod.Module(group, context = mx.gpu(), label_names=('output_0', 'output_1',))\n",
    "# print(mx.viz.print_summary(out1))\n",
    "model.bind(data_shapes=itea.provide_data, label_shapes=itea.provide_label)\n",
    "model.init_params()\n",
    "model.init_optimizer(optimizer = 'adam', optimizer_params={'learning_rate': 0.01})\n",
    "# model.fit(itea, num_epoch=10)"
   ]
  },
  {
   "cell_type": "code",
   "execution_count": 485,
   "metadata": {},
   "outputs": [
    {
     "name": "stdout",
     "output_type": "stream",
     "text": [
      "Batch: 663, d1_acc: 0.29367469879518077"
     ]
    },
    {
     "ename": "KeyboardInterrupt",
     "evalue": "",
     "output_type": "error",
     "traceback": [
      "\u001b[0;31m---------------------------------------------------------------------------\u001b[0m",
      "\u001b[0;31mKeyboardInterrupt\u001b[0m                         Traceback (most recent call last)",
      "\u001b[0;32m<ipython-input-485-9343af87b592>\u001b[0m in \u001b[0;36m<module>\u001b[0;34m\u001b[0m\n\u001b[1;32m     11\u001b[0m         \u001b[0mmodel\u001b[0m\u001b[0;34m.\u001b[0m\u001b[0mupdate\u001b[0m\u001b[0;34m(\u001b[0m\u001b[0;34m)\u001b[0m\u001b[0;34m\u001b[0m\u001b[0;34m\u001b[0m\u001b[0m\n\u001b[1;32m     12\u001b[0m         \u001b[0mmodel\u001b[0m\u001b[0;34m.\u001b[0m\u001b[0mupdate_metric\u001b[0m\u001b[0;34m(\u001b[0m\u001b[0mmetric1\u001b[0m\u001b[0;34m,\u001b[0m \u001b[0mbatch\u001b[0m\u001b[0;34m.\u001b[0m\u001b[0mlabel\u001b[0m\u001b[0;34m)\u001b[0m\u001b[0;34m\u001b[0m\u001b[0;34m\u001b[0m\u001b[0m\n\u001b[0;32m---> 13\u001b[0;31m         \u001b[0mprint\u001b[0m\u001b[0;34m(\u001b[0m\u001b[0;34mf'\\rBatch: {x}, d1_acc: {metric1.get()[1]}'\u001b[0m\u001b[0;34m,\u001b[0m \u001b[0mend\u001b[0m\u001b[0;34m=\u001b[0m\u001b[0;34m''\u001b[0m\u001b[0;34m,\u001b[0m \u001b[0mflush\u001b[0m\u001b[0;34m=\u001b[0m\u001b[0;32mTrue\u001b[0m\u001b[0;34m)\u001b[0m\u001b[0;34m\u001b[0m\u001b[0;34m\u001b[0m\u001b[0m\n\u001b[0m\u001b[1;32m     14\u001b[0m \u001b[0;34m\u001b[0m\u001b[0m\n\u001b[1;32m     15\u001b[0m     \u001b[0mvalid_data_iter\u001b[0m\u001b[0;34m.\u001b[0m\u001b[0mreset\u001b[0m\u001b[0;34m(\u001b[0m\u001b[0;34m)\u001b[0m\u001b[0;34m\u001b[0m\u001b[0;34m\u001b[0m\u001b[0m\n",
      "\u001b[0;32m~/anaconda3/envs/python3/lib/python3.6/site-packages/ipykernel/iostream.py\u001b[0m in \u001b[0;36mflush\u001b[0;34m(self)\u001b[0m\n\u001b[1;32m    347\u001b[0m                 \u001b[0mself\u001b[0m\u001b[0;34m.\u001b[0m\u001b[0mpub_thread\u001b[0m\u001b[0;34m.\u001b[0m\u001b[0mschedule\u001b[0m\u001b[0;34m(\u001b[0m\u001b[0mevt\u001b[0m\u001b[0;34m.\u001b[0m\u001b[0mset\u001b[0m\u001b[0;34m)\u001b[0m\u001b[0;34m\u001b[0m\u001b[0;34m\u001b[0m\u001b[0m\n\u001b[1;32m    348\u001b[0m                 \u001b[0;31m# and give a timeout to avoid\u001b[0m\u001b[0;34m\u001b[0m\u001b[0;34m\u001b[0m\u001b[0;34m\u001b[0m\u001b[0m\n\u001b[0;32m--> 349\u001b[0;31m                 \u001b[0;32mif\u001b[0m \u001b[0;32mnot\u001b[0m \u001b[0mevt\u001b[0m\u001b[0;34m.\u001b[0m\u001b[0mwait\u001b[0m\u001b[0;34m(\u001b[0m\u001b[0mself\u001b[0m\u001b[0;34m.\u001b[0m\u001b[0mflush_timeout\u001b[0m\u001b[0;34m)\u001b[0m\u001b[0;34m:\u001b[0m\u001b[0;34m\u001b[0m\u001b[0;34m\u001b[0m\u001b[0m\n\u001b[0m\u001b[1;32m    350\u001b[0m                     \u001b[0;31m# write directly to __stderr__ instead of warning because\u001b[0m\u001b[0;34m\u001b[0m\u001b[0;34m\u001b[0m\u001b[0;34m\u001b[0m\u001b[0m\n\u001b[1;32m    351\u001b[0m                     \u001b[0;31m# if this is happening sys.stderr may be the problem.\u001b[0m\u001b[0;34m\u001b[0m\u001b[0;34m\u001b[0m\u001b[0;34m\u001b[0m\u001b[0m\n",
      "\u001b[0;32m~/anaconda3/envs/python3/lib/python3.6/threading.py\u001b[0m in \u001b[0;36mwait\u001b[0;34m(self, timeout)\u001b[0m\n\u001b[1;32m    549\u001b[0m             \u001b[0msignaled\u001b[0m \u001b[0;34m=\u001b[0m \u001b[0mself\u001b[0m\u001b[0;34m.\u001b[0m\u001b[0m_flag\u001b[0m\u001b[0;34m\u001b[0m\u001b[0;34m\u001b[0m\u001b[0m\n\u001b[1;32m    550\u001b[0m             \u001b[0;32mif\u001b[0m \u001b[0;32mnot\u001b[0m \u001b[0msignaled\u001b[0m\u001b[0;34m:\u001b[0m\u001b[0;34m\u001b[0m\u001b[0;34m\u001b[0m\u001b[0m\n\u001b[0;32m--> 551\u001b[0;31m                 \u001b[0msignaled\u001b[0m \u001b[0;34m=\u001b[0m \u001b[0mself\u001b[0m\u001b[0;34m.\u001b[0m\u001b[0m_cond\u001b[0m\u001b[0;34m.\u001b[0m\u001b[0mwait\u001b[0m\u001b[0;34m(\u001b[0m\u001b[0mtimeout\u001b[0m\u001b[0;34m)\u001b[0m\u001b[0;34m\u001b[0m\u001b[0;34m\u001b[0m\u001b[0m\n\u001b[0m\u001b[1;32m    552\u001b[0m             \u001b[0;32mreturn\u001b[0m \u001b[0msignaled\u001b[0m\u001b[0;34m\u001b[0m\u001b[0;34m\u001b[0m\u001b[0m\n\u001b[1;32m    553\u001b[0m \u001b[0;34m\u001b[0m\u001b[0m\n",
      "\u001b[0;32m~/anaconda3/envs/python3/lib/python3.6/threading.py\u001b[0m in \u001b[0;36mwait\u001b[0;34m(self, timeout)\u001b[0m\n\u001b[1;32m    297\u001b[0m             \u001b[0;32melse\u001b[0m\u001b[0;34m:\u001b[0m\u001b[0;34m\u001b[0m\u001b[0;34m\u001b[0m\u001b[0m\n\u001b[1;32m    298\u001b[0m                 \u001b[0;32mif\u001b[0m \u001b[0mtimeout\u001b[0m \u001b[0;34m>\u001b[0m \u001b[0;36m0\u001b[0m\u001b[0;34m:\u001b[0m\u001b[0;34m\u001b[0m\u001b[0;34m\u001b[0m\u001b[0m\n\u001b[0;32m--> 299\u001b[0;31m                     \u001b[0mgotit\u001b[0m \u001b[0;34m=\u001b[0m \u001b[0mwaiter\u001b[0m\u001b[0;34m.\u001b[0m\u001b[0macquire\u001b[0m\u001b[0;34m(\u001b[0m\u001b[0;32mTrue\u001b[0m\u001b[0;34m,\u001b[0m \u001b[0mtimeout\u001b[0m\u001b[0;34m)\u001b[0m\u001b[0;34m\u001b[0m\u001b[0;34m\u001b[0m\u001b[0m\n\u001b[0m\u001b[1;32m    300\u001b[0m                 \u001b[0;32melse\u001b[0m\u001b[0;34m:\u001b[0m\u001b[0;34m\u001b[0m\u001b[0;34m\u001b[0m\u001b[0m\n\u001b[1;32m    301\u001b[0m                     \u001b[0mgotit\u001b[0m \u001b[0;34m=\u001b[0m \u001b[0mwaiter\u001b[0m\u001b[0;34m.\u001b[0m\u001b[0macquire\u001b[0m\u001b[0;34m(\u001b[0m\u001b[0;32mFalse\u001b[0m\u001b[0;34m)\u001b[0m\u001b[0;34m\u001b[0m\u001b[0;34m\u001b[0m\u001b[0m\n",
      "\u001b[0;31mKeyboardInterrupt\u001b[0m: "
     ]
    }
   ],
   "source": [
    "metric1 = mx.metric.Accuracy()\n",
    "metric2 = mx.metric.Accuracy()\n",
    "\n",
    "for epoch in range(50):\n",
    "    itea.reset()\n",
    "    metric1.reset()\n",
    "    start = time.time()\n",
    "    for x, batch in enumerate(itea):\n",
    "        model.forward(batch, is_train=True)\n",
    "        model.backward()\n",
    "        model.update()\n",
    "        model.update_metric(metric1, batch.label)\n",
    "        print(f'\\rBatch: {x}, d1_acc: {metric1.get()[1]}', end='', flush=True)\n",
    "\n",
    "    valid_data_iter.reset()\n",
    "    metric1.reset()\n",
    "    for batch in valid_data_iter:\n",
    "        model.forward(batch, is_train=False)\n",
    "        model.update_metric(metric1, batch.label)\n",
    "    print(f'\\nEpoch: {epoch}, d1_acc_val: {metric1.get()[1]}')\n",
    "    print(f'For epoch = {time.time()-start}')"
   ]
  },
  {
   "cell_type": "code",
   "execution_count": 489,
   "metadata": {},
   "outputs": [
    {
     "data": {
      "text/plain": [
       "[\n",
       " [[4.5173526e-01 1.6232893e-01 1.7397400e-02 4.1101294e-04 4.2697135e-04\n",
       "   4.1409634e-04 4.2233313e-04 4.4059398e-04 4.1083267e-04 3.6601254e-01]\n",
       "  [3.6507878e-01 1.4832495e-01 1.3676290e-02 3.8431803e-04 3.8568702e-04\n",
       "   3.9189900e-04 3.8194854e-04 4.1426034e-04 3.8507601e-04 4.7057673e-01]]\n",
       " <NDArray 2x10 @gpu(0)>, \n",
       " [[0.1109302  0.11113386 0.05700018 0.10762001 0.12366976 0.11408701\n",
       "   0.10133916 0.10432041 0.05772446 0.08789822 0.02427675]\n",
       "  [0.14870526 0.09974792 0.06393304 0.11060984 0.10098902 0.10481322\n",
       "   0.08379348 0.10180547 0.05337269 0.08714633 0.04508374]]\n",
       " <NDArray 2x11 @gpu(0)>]"
      ]
     },
     "execution_count": 489,
     "metadata": {},
     "output_type": "execute_result"
    }
   ],
   "source": [
    "model.get_outputs()"
   ]
  },
  {
   "cell_type": "code",
   "execution_count": 486,
   "metadata": {},
   "outputs": [],
   "source": [
    "valid_data_iter.reset()\n",
    "batch = next(valid_data_iter)"
   ]
  },
  {
   "cell_type": "code",
   "execution_count": 487,
   "metadata": {},
   "outputs": [],
   "source": [
    "predictions = model.predict(batch.data[0], merge_batches=True, always_output_list=True)"
   ]
  },
  {
   "cell_type": "code",
   "execution_count": 488,
   "metadata": {},
   "outputs": [
    {
     "data": {
      "text/plain": [
       "\n",
       "[[4.5173526e-01 1.6232893e-01 1.7397400e-02 4.1101294e-04 4.2697135e-04\n",
       "  4.1409634e-04 4.2233313e-04 4.4059398e-04 4.1083267e-04 3.6601254e-01]\n",
       " [3.6507878e-01 1.4832495e-01 1.3676290e-02 3.8431803e-04 3.8568702e-04\n",
       "  3.9189900e-04 3.8194854e-04 4.1426034e-04 3.8507601e-04 4.7057673e-01]]\n",
       "<NDArray 2x10 @gpu(0)>"
      ]
     },
     "execution_count": 488,
     "metadata": {},
     "output_type": "execute_result"
    }
   ],
   "source": [
    "predictions"
   ]
  },
  {
   "cell_type": "code",
   "execution_count": 465,
   "metadata": {},
   "outputs": [
    {
     "name": "stderr",
     "output_type": "stream",
     "text": [
      "Clipping input data to the valid range for imshow with RGB data ([0..1] for floats or [0..255] for integers).\n"
     ]
    },
    {
     "name": "stdout",
     "output_type": "stream",
     "text": [
      "\n",
      "[4.1013497e-01 7.7762365e-02 1.0771721e-02 9.1087510e-05 9.2353897e-05\n",
      " 8.3820087e-05 1.2122575e-03 8.5280320e-05 8.9073830e-05 4.9967709e-01]\n",
      "<NDArray 10 @gpu(0)> 0 8\n"
     ]
    },
    {
     "data": {
      "text/plain": [
       "<matplotlib.image.AxesImage at 0x7fd7a4160080>"
      ]
     },
     "execution_count": 465,
     "metadata": {},
     "output_type": "execute_result"
    },
    {
     "data": {
      "image/png": "[encoded data removed]",
      "text/plain": [
       "<Figure size 432x288 with 1 Axes>"
      ]
     },
     "metadata": {
      "needs_background": "light"
     },
     "output_type": "display_data"
    }
   ],
   "source": [
    "print(predictions[3], batch.label[0][3].asnumpy().astype(int)[0], batch.label[1][3].asnumpy().astype(int)[0])\n",
    "plt.imshow(np.rollaxis(batch.data[0].asnumpy().astype(float), 1, 4)[3])"
   ]
  },
  {
   "cell_type": "code",
   "execution_count": null,
   "metadata": {},
   "outputs": [],
   "source": []
  },
  {
   "cell_type": "code",
   "execution_count": 261,
   "metadata": {},
   "outputs": [
    {
     "data": {
      "text/plain": [
       "(256, 3, 150, 100)"
      ]
     },
     "execution_count": 261,
     "metadata": {},
     "output_type": "execute_result"
    }
   ],
   "source": [
    "batch.data[0].asnumpy().shape"
   ]
  },
  {
   "cell_type": "code",
   "execution_count": 262,
   "metadata": {},
   "outputs": [
    {
     "data": {
      "text/plain": [
       "(256, 150, 100, 3)"
      ]
     },
     "execution_count": 262,
     "metadata": {},
     "output_type": "execute_result"
    }
   ],
   "source": [
    "np.rollaxis(batch.data[0].asnumpy(), 1, 4).shape"
   ]
  },
  {
   "cell_type": "code",
   "execution_count": 290,
   "metadata": {},
   "outputs": [
    {
     "data": {
      "text/plain": [
       "<matplotlib.image.AxesImage at 0x7fd7a4ee5c88>"
      ]
     },
     "execution_count": 290,
     "metadata": {},
     "output_type": "execute_result"
    },
    {
     "data": {
      "image/png": "[encoded data removed]",
      "text/plain": [
       "<Figure size 432x288 with 1 Axes>"
      ]
     },
     "metadata": {
      "needs_background": "light"
     },
     "output_type": "display_data"
    }
   ],
   "source": []
  },
  {
   "cell_type": "code",
   "execution_count": 273,
   "metadata": {},
   "outputs": [
    {
     "name": "stdout",
     "output_type": "stream",
     "text": [
      "\n",
      "[[2.06142783e-01 1.72818869e-01 1.67021994e-03 ... 3.23599529e-08\n",
      "  6.19298100e-01 1.38653263e-06]\n",
      " [1.47781875e-02 8.10969993e-03 3.68540804e-03 ... 3.80690098e-11\n",
      "  9.73426282e-01 3.06208214e-08]\n",
      " [6.40088975e-01 3.80482078e-02 4.34868969e-03 ... 1.18851567e-10\n",
      "  3.17494363e-01 7.50416440e-09]\n",
      " ...\n",
      " [1.61285907e-01 4.92342040e-02 1.12652975e-04 ... 1.66106073e-09\n",
      "  7.89259195e-01 8.48483580e-07]\n",
      " [3.62633377e-01 5.49655735e-01 2.20602215e-03 ... 3.29044042e-10\n",
      "  8.54990184e-02 1.34267006e-08]\n",
      " [8.37492943e-01 1.13681378e-03 1.34476417e-04 ... 3.52788443e-09\n",
      "  1.61228776e-01 1.58823337e-08]]\n",
      "<NDArray 256x11 @gpu(0)>\n"
     ]
    }
   ],
   "source": [
    "print(predictions)"
   ]
  }
 ],
 "metadata": {
  "kernelspec": {
   "display_name": "Python 3",
   "language": "python",
   "name": "python3"
  },
  "language_info": {
   "codemirror_mode": {
    "name": "ipython",
    "version": 3
   },
   "file_extension": ".py",
   "mimetype": "text/x-python",
   "name": "python",
   "nbconvert_exporter": "python",
   "pygments_lexer": "ipython3",
   "version": "3.6.8"
  }
 },
 "nbformat": 4,
 "nbformat_minor": 2
}
